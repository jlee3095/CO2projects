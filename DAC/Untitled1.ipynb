{
 "cells": [
  {
   "cell_type": "code",
   "execution_count": 247,
   "metadata": {},
   "outputs": [],
   "source": [
    "import pandas as pd\n",
    "import matplotlib.pyplot as plt"
   ]
  },
  {
   "cell_type": "code",
   "execution_count": 335,
   "metadata": {},
   "outputs": [],
   "source": [
    "#CO2df contains all 7190 sorbents with CO2 \n",
    "#mmolgdf contains CO2 capacities in mmol/g 3840 sorbents\n",
    "mmolgdf=pd.read_csv('./CO2capmmolg.csv')\n",
    "CO2df=pd.read_csv('./CO2df.csv')"
   ]
  },
  {
   "cell_type": "code",
   "execution_count": 336,
   "metadata": {},
   "outputs": [
    {
     "data": {
      "text/plain": [
       "mmol/g                        3840\n",
       "cm3(STP)/g                    1506\n",
       "molecules/unitcell             350\n",
       "mg/g                           293\n",
       "wt%                            272\n",
       "Multicomponent                 228\n",
       "mmol/cm3                       130\n",
       "cm3(STP)/cm3                   129\n",
       "ml/g                            91\n",
       "kg/mol                          49\n",
       "mol/mol                         42\n",
       "mol/l                           39\n",
       "mol/g                           36\n",
       "micromoles/m2                   35\n",
       "g/l                             19\n",
       "mol/m3                          16\n",
       "g/g                             12\n",
       "molecules/8 unit cells           9\n",
       "kmol/m3                          9\n",
       "g/cm3                            9\n",
       "mmol/kg                          8\n",
       "mg/m2                            8\n",
       "molecules/cage                   6\n",
       "molecules/formula unit           6\n",
       "cm3/m2                           5\n",
       "molecules/pore                   3\n",
       "molecules/Rh2 unit               3\n",
       "volume/volume                    3\n",
       "molecules/Cu2 unit               3\n",
       "Guest molecules per Cu ion       2\n",
       "mmol/m2                          2\n",
       "mol/m2                           2\n",
       "molecules/nm2                    2\n",
       "Name: ads_units, dtype: int64"
      ]
     },
     "execution_count": 336,
     "metadata": {},
     "output_type": "execute_result"
    }
   ],
   "source": [
    "#5269 datapoints 3840 with mmol/g unit or 73% of data \n",
    "CO2df[CO2df['temp_C']>0]['ads_units'].shape\n",
    "CO2df[\"ads_units\"].value_counts()"
   ]
  },
  {
   "cell_type": "code",
   "execution_count": 342,
   "metadata": {},
   "outputs": [],
   "source": [
    "#tempdfcontains mmolgdf values greater than 0C and 0 capacity \n",
    "#contains no null values and contains 2850 values\n",
    "#empdf['CO2_capacity (mmol/g)'].isnull().sum()\n",
    "tempdf=mmolgdf[(mmolgdf['temp_C']>0) & (mmolgdf['CO2_capacity (mmol/g)']>0.01)].sort_values(by='CO2_capacity (mmol/g)', ascending=False).round(3)\n"
   ]
  },
  {
   "cell_type": "code",
   "execution_count": 343,
   "metadata": {},
   "outputs": [],
   "source": [
    "#columns have incorrect capacity\n",
    "tempdf=tempdf.drop(2232).drop(532).drop(2957).drop(2958).drop(3089)\n",
    "#mg-mof-74 goes by numerous names\n",
    "tempdf=tempdf.replace('CPO-27-Mg','Mg-MOF-74').replace('Mg2(dobdc)','Mg-MOF-74').replace('Mg-MOF-74 (3)'  ,'Mg-MOF-74')\n"
   ]
  },
  {
   "cell_type": "code",
   "execution_count": 322,
   "metadata": {
    "scrolled": false
   },
   "outputs": [
    {
     "data": {
      "text/plain": [
       "Mg-MOF-74                   59\n",
       "Zeolite 13X                 26\n",
       "PEI-25-APTES-25-PQCS2129    13\n",
       "Zeolite 5A                  13\n",
       "Ni-DOBDC                    11\n",
       "                            ..\n",
       "ZIF-79                       1\n",
       "Ca-rho-MOF                   1\n",
       "[Cu2(m-OH)2(bdim)]           1\n",
       "Zn2(NDC)2(DPNI)              1\n",
       "[MnIIMnIII(OH)Cl2(bbta)]     1\n",
       "Name: adsorbent, Length: 134, dtype: int64"
      ]
     },
     "execution_count": 322,
     "metadata": {},
     "output_type": "execute_result"
    }
   ],
   "source": [
    "#Top sorbents\n",
    "tempdf[tempdf['CO2_capacity (mmol/g)']>=0.8]['adsorbent'].value_counts()"
   ]
  },
  {
   "cell_type": "code",
   "execution_count": 339,
   "metadata": {},
   "outputs": [
    {
     "ename": "TypeError",
     "evalue": "'>=' not supported between instances of 'str' and 'int'",
     "output_type": "error",
     "traceback": [
      "\u001b[1;31m---------------------------------------------------------------------------\u001b[0m",
      "\u001b[1;31mTypeError\u001b[0m                                 Traceback (most recent call last)",
      "\u001b[1;32m<ipython-input-339-8057afe1db03>\u001b[0m in \u001b[0;36m<module>\u001b[1;34m\u001b[0m\n\u001b[1;32m----> 1\u001b[1;33m \u001b[0mtempdf\u001b[0m\u001b[1;33m.\u001b[0m\u001b[0mcolumns\u001b[0m\u001b[1;33m[\u001b[0m\u001b[1;36m2\u001b[0m\u001b[1;33m]\u001b[0m\u001b[1;33m>=\u001b[0m\u001b[1;36m100\u001b[0m\u001b[1;33m\u001b[0m\u001b[1;33m\u001b[0m\u001b[0m\n\u001b[0m",
      "\u001b[1;31mTypeError\u001b[0m: '>=' not supported between instances of 'str' and 'int'"
     ]
    }
   ],
   "source": [
    "tempdf.columns[2]>=100"
   ]
  },
  {
   "cell_type": "code",
   "execution_count": 345,
   "metadata": {},
   "outputs": [
    {
     "data": {
      "text/html": [
       "<div>\n",
       "<style scoped>\n",
       "    .dataframe tbody tr th:only-of-type {\n",
       "        vertical-align: middle;\n",
       "    }\n",
       "\n",
       "    .dataframe tbody tr th {\n",
       "        vertical-align: top;\n",
       "    }\n",
       "\n",
       "    .dataframe thead th {\n",
       "        text-align: right;\n",
       "    }\n",
       "</style>\n",
       "<table border=\"1\" class=\"dataframe\">\n",
       "  <thead>\n",
       "    <tr style=\"text-align: right;\">\n",
       "      <th></th>\n",
       "      <th>Unnamed: 0</th>\n",
       "      <th>DOI</th>\n",
       "      <th>isotherm_file</th>\n",
       "      <th>temp_C</th>\n",
       "      <th>adsorbent</th>\n",
       "      <th>CO2_capacity (mmol/g)</th>\n",
       "    </tr>\n",
       "  </thead>\n",
       "  <tbody>\n",
       "    <tr>\n",
       "      <td>270</td>\n",
       "      <td>692</td>\n",
       "      <td>10.1007/s10450-013-9595-3</td>\n",
       "      <td>10.1007s10450-013-9595-3.isotherm24.json</td>\n",
       "      <td>300</td>\n",
       "      <td>Carbon</td>\n",
       "      <td>0.433</td>\n",
       "    </tr>\n",
       "    <tr>\n",
       "      <td>268</td>\n",
       "      <td>690</td>\n",
       "      <td>10.1007/s10450-013-9595-3</td>\n",
       "      <td>10.1007s10450-013-9595-3.isotherm22.json</td>\n",
       "      <td>300</td>\n",
       "      <td>Carbon</td>\n",
       "      <td>0.429</td>\n",
       "    </tr>\n",
       "    <tr>\n",
       "      <td>2066</td>\n",
       "      <td>3713</td>\n",
       "      <td>10.1021/Je800900a</td>\n",
       "      <td>10.1021Je800900a.Isotherm37.json</td>\n",
       "      <td>125</td>\n",
       "      <td>Zeolite 13X</td>\n",
       "      <td>0.421</td>\n",
       "    </tr>\n",
       "    <tr>\n",
       "      <td>269</td>\n",
       "      <td>691</td>\n",
       "      <td>10.1007/s10450-013-9595-3</td>\n",
       "      <td>10.1007s10450-013-9595-3.isotherm23.json</td>\n",
       "      <td>300</td>\n",
       "      <td>Carbon</td>\n",
       "      <td>0.411</td>\n",
       "    </tr>\n",
       "    <tr>\n",
       "      <td>2978</td>\n",
       "      <td>5452</td>\n",
       "      <td>10.1039/c1ee01720a</td>\n",
       "      <td>10.1039c1ee01720a.isotherm40.json</td>\n",
       "      <td>110</td>\n",
       "      <td>Mg-MOF-74</td>\n",
       "      <td>0.410</td>\n",
       "    </tr>\n",
       "  </tbody>\n",
       "</table>\n",
       "</div>"
      ],
      "text/plain": [
       "      Unnamed: 0                        DOI  \\\n",
       "270          692  10.1007/s10450-013-9595-3   \n",
       "268          690  10.1007/s10450-013-9595-3   \n",
       "2066        3713          10.1021/Je800900a   \n",
       "269          691  10.1007/s10450-013-9595-3   \n",
       "2978        5452         10.1039/c1ee01720a   \n",
       "\n",
       "                                 isotherm_file  temp_C    adsorbent  \\\n",
       "270   10.1007s10450-013-9595-3.isotherm24.json     300       Carbon   \n",
       "268   10.1007s10450-013-9595-3.isotherm22.json     300       Carbon   \n",
       "2066          10.1021Je800900a.Isotherm37.json     125  Zeolite 13X   \n",
       "269   10.1007s10450-013-9595-3.isotherm23.json     300       Carbon   \n",
       "2978         10.1039c1ee01720a.isotherm40.json     110    Mg-MOF-74   \n",
       "\n",
       "      CO2_capacity (mmol/g)  \n",
       "270                   0.433  \n",
       "268                   0.429  \n",
       "2066                  0.421  \n",
       "269                   0.411  \n",
       "2978                  0.410  "
      ]
     },
     "execution_count": 345,
     "metadata": {},
     "output_type": "execute_result"
    }
   ],
   "source": [
    "#tempdf=tempdf[tempdf['CO2_capacity (mmol/g)']>=0.8].drop(tempdf.columns[0],axis=1)\n",
    "#tempdf.to_csv(r'./final.csv', index=False)\n",
    "tempdf[tempdf['temp_C']>100].head()"
   ]
  },
  {
   "cell_type": "code",
   "execution_count": 253,
   "metadata": {},
   "outputs": [
    {
     "data": {
      "text/plain": [
       "Text(0, 0.5, 'Counts')"
      ]
     },
     "execution_count": 253,
     "metadata": {},
     "output_type": "execute_result"
    },
    {
     "data": {
      "image/png": "[encoded data removed]",
      "text/plain": [
       "<Figure size 432x288 with 1 Axes>"
      ]
     },
     "metadata": {
      "needs_background": "light"
     },
     "output_type": "display_data"
    }
   ],
   "source": [
    "tempdf[tempdf['CO2_capacity (mmol/g)']>=0.8]['CO2_capacity (mmol/g)'].hist()\n",
    "plt.xlabel('Capacity (mmol/g)')\n",
    "plt.ylabel('Counts')\n"
   ]
  },
  {
   "cell_type": "code",
   "execution_count": null,
   "metadata": {},
   "outputs": [],
   "source": []
  }
 ],
 "metadata": {
  "kernelspec": {
   "display_name": "Python 3",
   "language": "python",
   "name": "python3"
  },
  "language_info": {
   "codemirror_mode": {
    "name": "ipython",
    "version": 3
   },
   "file_extension": ".py",
   "mimetype": "text/x-python",
   "name": "python",
   "nbconvert_exporter": "python",
   "pygments_lexer": "ipython3",
   "version": "3.7.4"
  }
 },
 "nbformat": 4,
 "nbformat_minor": 2
}
